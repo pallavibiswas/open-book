{
  "nbformat": 4,
  "nbformat_minor": 0,
  "metadata": {
    "colab": {
      "provenance": []
    },
    "kernelspec": {
      "name": "python3",
      "display_name": "Python 3"
    },
    "language_info": {
      "name": "python"
    }
  },
  "cells": [
    {
      "cell_type": "code",
      "execution_count": 43,
      "metadata": {
        "colab": {
          "base_uri": "https://localhost:8080/"
        },
        "id": "XlsQBf6nMluf",
        "outputId": "dbddcfef-7023-4d02-a775-88270bfda658"
      },
      "outputs": [
        {
          "output_type": "stream",
          "name": "stdout",
          "text": [
            "Accuracy: 0.0\n",
            "Predicted Emoji: 😔\n",
            "Predicted Emoji: 😔\n"
          ]
        }
      ],
      "source": [
        "from sklearn.model_selection import train_test_split\n",
        "from sklearn.feature_extraction.text import TfidfVectorizer\n",
        "from sklearn.ensemble import RandomForestClassifier\n",
        "from sklearn.metrics import accuracy_score\n",
        "import numpy as np\n",
        "\n",
        "# 1. Data Collection\n",
        "# Example data (replace with your own dataset)\n",
        "texts = [\"I love pizza\", \"I'm feeling happy\", \"This movie is terrible\", \"I'm feeling sad\", \"That joke is hilarious\", \"I feel down\", \"I'm laughing so hard\"]\n",
        "emojis = [\"❤️\", \"😊\", \"😡\", \"😔\", \"😂\", \"😔\", \"😂\"]\n",
        "\n",
        "# 2. Data Preprocessing\n",
        "# Encode emojis into numerical labels\n",
        "label_map = {emoji: i for i, emoji in enumerate(set(emojis))}\n",
        "labels = [label_map[emoji] for emoji in emojis]\n",
        "\n",
        "# 3. Feature Extraction\n",
        "# Convert text data into TF-IDF vectors\n",
        "vectorizer = TfidfVectorizer()\n",
        "X = vectorizer.fit_transform(texts)\n",
        "\n",
        "# 4. Model Selection\n",
        "# Choose a machine learning model\n",
        "model = RandomForestClassifier(n_estimators=100, random_state=42)\n",
        "\n",
        "# 5. Training\n",
        "# Split dataset into training and testing sets\n",
        "X_train, X_test, y_train, y_test = train_test_split(X, labels, test_size=0.2, random_state=42)\n",
        "\n",
        "# Train the model\n",
        "model.fit(X_train, y_train)\n",
        "\n",
        "# 6. Evaluation\n",
        "# Evaluate model performance on the test set\n",
        "y_pred = model.predict(X_test)\n",
        "accuracy = accuracy_score(y_test, y_pred)\n",
        "print(\"Accuracy:\", accuracy)\n",
        "\n",
        "# 7. Inference\n",
        "# Use the trained model to predict emojis for new text inputs\n",
        "new_text = [\"I'm feeling sad\"]\n",
        "new_text_vectorized = vectorizer.transform(new_text)\n",
        "predicted_label = model.predict(new_text_vectorized)[0]\n",
        "predicted_emoji = [emoji for emoji, label in label_map.items() if label == predicted_label][0]\n",
        "print(\"Predicted Emoji:\", predicted_emoji)\n",
        "\n",
        "new_text = [\"I'm feeling happy\"]\n",
        "new_text_vectorized = vectorizer.transform(new_text)\n",
        "predicted_label = model.predict(new_text_vectorized)[0]\n",
        "predicted_emoji = [emoji for emoji, label in label_map.items() if label == predicted_label][0]\n",
        "print(\"Predicted Emoji:\", predicted_emoji)\n"
      ]
    },
    {
      "cell_type": "code",
      "source": [
        "from sklearn.model_selection import train_test_split\n",
        "from sklearn.feature_extraction.text import TfidfVectorizer\n",
        "from sklearn.ensemble import RandomForestClassifier, VotingClassifier\n",
        "from sklearn.metrics import accuracy_score\n",
        "from gensim.models import Word2Vec\n",
        "import numpy as np\n",
        "\n",
        "# 1. Data Collection\n",
        "# Example data (replace with your own dataset)\n",
        "texts = [\"I love pizza\", \"I'm feeling happy\", \"This movie is terrible\", \"I'm feeling sad\", \"That joke is hilarious\", \"I feel down\", \"I'm laughing so hard\"]\n",
        "emojis = [\"❤️\", \"😊\", \"😡\", \"😔\", \"😂\", \"😔\", \"😂\"]\n",
        "\n",
        "# 2. Data Preprocessing\n",
        "# Add more emojis and corresponding texts to the dataset\n",
        "additional_texts = [\"I'm bored\", \"This food is delicious\", \"I'm feeling excited\", \"I'm tired\", \"This book is boring\"]\n",
        "additional_emojis = [\"😐\", \"😋\", \"😃\", \"😴\", \"😫\"]\n",
        "texts.extend(additional_texts)\n",
        "emojis.extend(additional_emojis)\n",
        "\n",
        "# Encode emojis into numerical labels\n",
        "label_map = {emoji: i for i, emoji in enumerate(set(emojis))}\n",
        "labels = [label_map[emoji] for emoji in emojis]\n",
        "\n",
        "# 3. Feature Extraction\n",
        "# Train Word2Vec embeddings on the text data\n",
        "word2vec_model = Word2Vec([text.split() for text in texts], vector_size=100, window=5, min_count=1, workers=4)\n",
        "\n",
        "# Convert text data into Word2Vec embeddings\n",
        "X = np.array([np.mean([word2vec_model.wv[word] for word in text.split() if word in word2vec_model.wv] or [np.zeros(100)], axis=0) for text in texts])\n",
        "\n",
        "# 4. Model Selection\n",
        "# Choose machine learning models\n",
        "rf_model = RandomForestClassifier(n_estimators=100, random_state=42)\n",
        "voting_clf = VotingClassifier(estimators=[('rf', rf_model)], voting='hard')\n",
        "\n",
        "# 5. Training\n",
        "# Split dataset into training and testing sets\n",
        "X_train, X_test, y_train, y_test = train_test_split(X, labels, test_size=0.2, random_state=42)\n",
        "\n",
        "# Train the models\n",
        "rf_model.fit(X_train, y_train)\n",
        "voting_clf.fit(X_train, y_train)\n",
        "\n",
        "# 6. Evaluation\n",
        "# Evaluate model performance on the test set\n",
        "rf_accuracy = accuracy_score(y_test, rf_model.predict(X_test))\n",
        "voting_accuracy = accuracy_score(y_test, voting_clf.predict(X_test))\n",
        "print(\"Random Forest Accuracy:\", rf_accuracy)\n",
        "print(\"Voting Classifier Accuracy:\", voting_accuracy)\n",
        "\n",
        "# 7. Inference\n",
        "# Use the trained models to predict emojis for new text inputs\n",
        "new_text = [\"I'm feeling bored\"]\n",
        "new_text_embedding = np.mean([word2vec_model.wv[word] for word in new_text[0].split() if word in word2vec_model.wv] or [np.zeros(100)], axis=0).reshape(1, -1)\n",
        "predicted_label_rf = rf_model.predict(new_text_embedding)[0]\n",
        "predicted_label_voting = voting_clf.predict(new_text_embedding)[0]\n",
        "predicted_emoji_rf = [emoji for emoji, label in label_map.items() if label == predicted_label_rf][0]\n",
        "predicted_emoji_voting = [emoji for emoji, label in label_map.items() if label == predicted_label_voting][0]\n",
        "print(\"Predicted Emoji (Random Forest):\", predicted_emoji_rf)\n",
        "print(\"Predicted Emoji (Voting Classifier):\", predicted_emoji_voting)"
      ],
      "metadata": {
        "id": "rxe_76gbOFE9",
        "outputId": "a2461937-2dee-411f-8573-08968c7542ab",
        "colab": {
          "base_uri": "https://localhost:8080/"
        }
      },
      "execution_count": 44,
      "outputs": [
        {
          "output_type": "stream",
          "name": "stdout",
          "text": [
            "Random Forest Accuracy: 0.0\n",
            "Voting Classifier Accuracy: 0.0\n",
            "Predicted Emoji (Random Forest): 😔\n",
            "Predicted Emoji (Voting Classifier): 😔\n"
          ]
        }
      ]
    },
    {
      "cell_type": "code",
      "source": [
        "import numpy as np\n",
        "from tensorflow.keras.models import Sequential\n",
        "from tensorflow.keras.layers import Dense, Embedding, LSTM\n",
        "from tensorflow.keras.preprocessing.text import Tokenizer\n",
        "from tensorflow.keras.preprocessing.sequence import pad_sequences\n",
        "\n",
        "# Sample dataset (text, emoji)\n",
        "data = [(\"love\", \"❤️\"),\n",
        "        (\"sad\", \"😢\"),\n",
        "        (\"happy\",\"😀\"),\n",
        "        (\"Dead\",\"💀\"),\n",
        "        (\"Side Eye\", \"👀\"),\n",
        "        (\"laughing\",\"😂\"),\n",
        "        (\"sleepy\", \"😴\")\n",
        "\n",
        "        # Add more samples\n",
        "       ]\n",
        "\n",
        "# Preprocess data\n",
        "texts, labels = zip(*data)\n",
        "tokenizer = Tokenizer()\n",
        "tokenizer.fit_on_texts(texts)\n",
        "vocab_size = len(tokenizer.word_index) + 1\n",
        "encoded_texts = tokenizer.texts_to_sequences(texts)\n",
        "max_length = max(len(text.split()) for text in texts)\n",
        "padded_texts = pad_sequences(encoded_texts, maxlen=max_length, padding='post')\n",
        "\n",
        "# Convert emojis to one-hot encoding\n",
        "label_dict = {label: i for i, label in enumerate(set(labels))}\n",
        "num_classes = len(label_dict)\n",
        "labels = [label_dict[label] for label in labels]\n",
        "\n",
        "# Define model\n",
        "model = Sequential([\n",
        "    Embedding(input_dim=vocab_size, output_dim=32, input_length=max_length),\n",
        "    LSTM(64),\n",
        "    Dense(num_classes, activation='softmax')\n",
        "])\n",
        "\n",
        "model.compile(optimizer='adam', loss='sparse_categorical_crossentropy', metrics=['accuracy'])\n",
        "\n",
        "# Train model\n",
        "model.fit(padded_texts, np.array(labels), epochs=10, batch_size=1)\n",
        "\n",
        "# Use the trained model to predict emoji for new text\n",
        "new_text = \"I'm happy\"\n",
        "encoded_new_text = tokenizer.texts_to_sequences([new_text])\n",
        "padded_new_text = pad_sequences(encoded_new_text, maxlen=max_length, padding='post')\n",
        "\n",
        "\n",
        "# Use the trained model to predict emoji for new text\n",
        "new_text = \"I'm happy\"\n",
        "encoded_new_text = tokenizer.texts_to_sequences([new_text])\n",
        "padded_new_text = pad_sequences(encoded_new_text, maxlen=max_length, padding='post')\n",
        "predicted_probabilities = model.predict(padded_new_text)\n",
        "predicted_label = np.argmax(predicted_probabilities)\n",
        "predicted_emoji = [emoji for emoji, idx in label_dict.items() if idx == predicted_label][0]\n",
        "\n",
        "print(\"Predicted Emoji:\", predicted_emoji)"
      ],
      "metadata": {
        "colab": {
          "base_uri": "https://localhost:8080/"
        },
        "id": "o9DRlWiTR_LX",
        "outputId": "96b1261f-5853-4623-b331-c66b956d4da8"
      },
      "execution_count": 60,
      "outputs": [
        {
          "output_type": "stream",
          "name": "stdout",
          "text": [
            "Epoch 1/10\n",
            "7/7 [==============================] - 2s 7ms/step - loss: 1.9506 - accuracy: 0.0000e+00\n",
            "Epoch 2/10\n",
            "7/7 [==============================] - 0s 5ms/step - loss: 1.9430 - accuracy: 0.0000e+00\n",
            "Epoch 3/10\n",
            "7/7 [==============================] - 0s 6ms/step - loss: 1.9377 - accuracy: 0.2857\n",
            "Epoch 4/10\n",
            "7/7 [==============================] - 0s 6ms/step - loss: 1.9327 - accuracy: 0.5714\n",
            "Epoch 5/10\n",
            "7/7 [==============================] - 0s 6ms/step - loss: 1.9270 - accuracy: 0.5714\n",
            "Epoch 6/10\n",
            "7/7 [==============================] - 0s 5ms/step - loss: 1.9207 - accuracy: 0.8571\n",
            "Epoch 7/10\n",
            "7/7 [==============================] - 0s 5ms/step - loss: 1.9136 - accuracy: 1.0000\n",
            "Epoch 8/10\n",
            "7/7 [==============================] - 0s 5ms/step - loss: 1.9043 - accuracy: 1.0000\n",
            "Epoch 9/10\n",
            "7/7 [==============================] - 0s 5ms/step - loss: 1.8928 - accuracy: 1.0000\n",
            "Epoch 10/10\n",
            "7/7 [==============================] - 0s 6ms/step - loss: 1.8800 - accuracy: 1.0000\n",
            "1/1 [==============================] - 0s 447ms/step\n",
            "Predicted Emoji: 😀\n"
          ]
        }
      ]
    },
    {
      "cell_type": "code",
      "source": [
        "import numpy as np\n",
        "\n",
        "# Use the trained model to predict emoji for new text\n",
        "new_text = \"I'm happy\"\n",
        "encoded_new_text = tokenizer.texts_to_sequences([new_text])\n",
        "padded_new_text = pad_sequences(encoded_new_text, maxlen=max_length, padding='post')\n",
        "predicted_probabilities = model.predict(padded_new_text)\n",
        "predicted_label = np.argmax(predicted_probabilities)\n",
        "predicted_emoji = [emoji for emoji, idx in label_dict.items() if idx == predicted_label][0]\n",
        "\n",
        "print(\"Predicted Emoji:\", predicted_emoji)\n",
        "\n",
        "new_text = \"I'm dead\"\n",
        "encoded_new_text = tokenizer.texts_to_sequences([new_text])\n",
        "padded_new_text = pad_sequences(encoded_new_text, maxlen=max_length, padding='post')\n",
        "predicted_probabilities = model.predict(padded_new_text)\n",
        "predicted_label = np.argmax(predicted_probabilities)\n",
        "predicted_emoji = [emoji for emoji, idx in label_dict.items() if idx == predicted_label][0]\n",
        "\n",
        "print(\"Predicted Emoji:\", predicted_emoji)\n",
        "\n",
        "new_text = \"I'm in love\"\n",
        "encoded_new_text = tokenizer.texts_to_sequences([new_text])\n",
        "padded_new_text = pad_sequences(encoded_new_text, maxlen=max_length, padding='post')\n",
        "predicted_probabilities = model.predict(padded_new_text)\n",
        "predicted_label = np.argmax(predicted_probabilities)\n",
        "predicted_emoji = [emoji for emoji, idx in label_dict.items() if idx == predicted_label][0]\n",
        "\n",
        "print(\"Predicted Emoji:\", predicted_emoji)\n",
        "\n",
        "new_text = \"I'm sad\"\n",
        "encoded_new_text = tokenizer.texts_to_sequences([new_text])\n",
        "padded_new_text = pad_sequences(encoded_new_text, maxlen=max_length, padding='post')\n",
        "predicted_probabilities = model.predict(padded_new_text)\n",
        "predicted_label = np.argmax(predicted_probabilities)\n",
        "predicted_emoji = [emoji for emoji, idx in label_dict.items() if idx == predicted_label][0]\n",
        "\n",
        "print(\"Predicted Emoji:\", predicted_emoji)\n",
        "\n",
        "new_text = \"I gave her the biggest Side Eye\"\n",
        "encoded_new_text = tokenizer.texts_to_sequences([new_text])\n",
        "padded_new_text = pad_sequences(encoded_new_text, maxlen=max_length, padding='post')\n",
        "predicted_probabilities = model.predict(padded_new_text)\n",
        "predicted_label = np.argmax(predicted_probabilities)\n",
        "predicted_emoji = [emoji for emoji, idx in label_dict.items() if idx == predicted_label][0]\n",
        "\n",
        "print(\"Predicted Emoji:\", predicted_emoji)\n",
        "new_text = \"She was like she was in love but I looked at her like she was crazy because i know fs she was never in love\"\n",
        "encoded_new_text = tokenizer.texts_to_sequences([new_text])\n",
        "padded_new_text = pad_sequences(encoded_new_text, maxlen=max_length, padding='post')\n",
        "predicted_probabilities = model.predict(padded_new_text)\n",
        "predicted_label = np.argmax(predicted_probabilities)\n",
        "predicted_emoji = [emoji for emoji, idx in label_dict.items() if idx == predicted_label][0]\n",
        "\n",
        "print(\"Predicted Emoji:\", predicted_emoji)\n",
        "\n",
        "new_text = \"Alveera is crazy\"\n",
        "encoded_new_text = tokenizer.texts_to_sequences([new_text])\n",
        "padded_new_text = pad_sequences(encoded_new_text, maxlen=max_length, padding='post')\n",
        "predicted_probabilities = model.predict(padded_new_text)\n",
        "predicted_label = np.argmax(predicted_probabilities)\n",
        "predicted_emoji = [emoji for emoji, idx in label_dict.items() if idx == predicted_label][0]\n",
        "\n",
        "print(\"Predicted Emoji:\", predicted_emoji)\n",
        "\n",
        "new_text = \"Alveera is side eye\"\n",
        "encoded_new_text = tokenizer.texts_to_sequences([new_text])\n",
        "padded_new_text = pad_sequences(encoded_new_text, maxlen=max_length, padding='post')\n",
        "predicted_probabilities = model.predict(padded_new_text)\n",
        "predicted_label = np.argmax(predicted_probabilities)\n",
        "predicted_emoji = [emoji for emoji, idx in label_dict.items() if idx == predicted_label][0]\n",
        "\n",
        "print(\"Predicted Emoji:\", predicted_emoji)\n",
        "\n",
        "new_text = \"My groups were so fucking useless, im so sad\"\n",
        "encoded_new_text = tokenizer.texts_to_sequences([new_text])\n",
        "padded_new_text = pad_sequences(encoded_new_text, maxlen=max_length, padding='post')\n",
        "predicted_probabilities = model.predict(padded_new_text)\n",
        "predicted_label = np.argmax(predicted_probabilities)\n",
        "predicted_emoji = [emoji for emoji, idx in label_dict.items() if idx == predicted_label][0]\n",
        "\n",
        "print(\"Predicted Emoji:\", predicted_emoji)\n",
        "\n",
        "new_text = \"im sad, i didnt get enough sleep\"\n",
        "encoded_new_text = tokenizer.texts_to_sequences([new_text])\n",
        "padded_new_text = pad_sequences(encoded_new_text, maxlen=max_length, padding='post')\n",
        "predicted_probabilities = model.predict(padded_new_text)\n",
        "predicted_label = np.argmax(predicted_probabilities)\n",
        "predicted_emoji = [emoji for emoji, idx in label_dict.items() if idx == predicted_label][0]\n",
        "\n",
        "print(\"Predicted Emoji:\", predicted_emoji)\n",
        "\n",
        "new_text = \"Laughing my ass off\"\n",
        "encoded_new_text = tokenizer.texts_to_sequences([new_text])\n",
        "padded_new_text = pad_sequences(encoded_new_text, maxlen=max_length, padding='post')\n",
        "predicted_probabilities = model.predict(padded_new_text)\n",
        "predicted_label = np.argmax(predicted_probabilities)\n",
        "predicted_emoji = [emoji for emoji, idx in label_dict.items() if idx == predicted_label][0]\n",
        "\n",
        "print(\"Predicted Emoji:\", predicted_emoji)\n",
        "\n",
        "new_text = \"i just want to sleep, im sad\"\n",
        "encoded_new_text = tokenizer.texts_to_sequences([new_text])\n",
        "padded_new_text = pad_sequences(encoded_new_text, maxlen=max_length, padding='post')\n",
        "predicted_probabilities = model.predict(padded_new_text)\n",
        "predicted_label = np.argmax(predicted_probabilities)\n",
        "predicted_emoji = [emoji for emoji, idx in label_dict.items() if idx == predicted_label][0]\n",
        "\n",
        "print(\"Predicted Emoji:\", predicted_emoji)"
      ],
      "metadata": {
        "id": "cXD0xezWSsyO",
        "outputId": "d3231ce9-bfde-4d2a-f3fa-125bed80151f",
        "colab": {
          "base_uri": "https://localhost:8080/"
        }
      },
      "execution_count": 62,
      "outputs": [
        {
          "output_type": "stream",
          "name": "stdout",
          "text": [
            "1/1 [==============================] - 0s 33ms/step\n",
            "Predicted Emoji: 😀\n",
            "1/1 [==============================] - 0s 32ms/step\n",
            "Predicted Emoji: 💀\n",
            "1/1 [==============================] - 0s 34ms/step\n",
            "Predicted Emoji: ❤️\n",
            "1/1 [==============================] - 0s 32ms/step\n",
            "Predicted Emoji: 😢\n",
            "1/1 [==============================] - 0s 37ms/step\n",
            "Predicted Emoji: 👀\n",
            "1/1 [==============================] - 0s 33ms/step\n",
            "Predicted Emoji: ❤️\n",
            "1/1 [==============================] - 0s 37ms/step\n",
            "Predicted Emoji: ❤️\n",
            "1/1 [==============================] - 0s 33ms/step\n",
            "Predicted Emoji: 👀\n",
            "1/1 [==============================] - 0s 69ms/step\n",
            "Predicted Emoji: 😢\n",
            "1/1 [==============================] - 0s 46ms/step\n",
            "Predicted Emoji: 😢\n",
            "1/1 [==============================] - 0s 51ms/step\n",
            "Predicted Emoji: 😂\n",
            "1/1 [==============================] - 0s 31ms/step\n",
            "Predicted Emoji: 😢\n"
          ]
        }
      ]
    },
    {
      "cell_type": "code",
      "source": [
        "import numpy as np\n",
        "\n",
        "# Use the trained model to predict emoji for new text\n",
        "new_text = \"I'm happy\"\n",
        "encoded_new_text = tokenizer.texts_to_sequences([new_text])\n",
        "padded_new_text = pad_sequences(encoded_new_text, maxlen=max_length, padding='post')\n",
        "predicted_probabilities = model.predict(padded_new_text)\n",
        "predicted_label = np.argmax(predicted_probabilities)\n",
        "predicted_emoji = [emoji for emoji, idx in label_dict.items() if idx == predicted_label][0]\n",
        "\n",
        "print(\"Predicted Emoji:\", predicted_emoji)"
      ],
      "metadata": {
        "id": "7Ccq_9MqCVTW",
        "outputId": "a2f42a25-0bd2-48f6-f32d-7bffb5c33535",
        "colab": {
          "base_uri": "https://localhost:8080/"
        }
      },
      "execution_count": 63,
      "outputs": [
        {
          "output_type": "stream",
          "name": "stdout",
          "text": [
            "1/1 [==============================] - 0s 52ms/step\n",
            "Predicted Emoji: 😀\n"
          ]
        }
      ]
    },
    {
      "cell_type": "code",
      "source": [
        "import numpy as np\n",
        "\n",
        "# Use the trained model to predict emoji for new text\n",
        "new_text = \"im so in love with them\"\n",
        "encoded_new_text = tokenizer.texts_to_sequences([new_text])\n",
        "padded_new_text = pad_sequences(encoded_new_text, maxlen=max_length, padding='post')\n",
        "predicted_probabilities = model.predict(padded_new_text)\n",
        "predicted_label = np.argmax(predicted_probabilities)\n",
        "predicted_emoji = [emoji for emoji, idx in label_dict.items() if idx == predicted_label][0]\n",
        "\n",
        "print(\"Predicted Emoji:\", predicted_emoji)"
      ],
      "metadata": {
        "id": "SLN73RRSCa93",
        "outputId": "b18d5e00-6b03-4328-e74d-bc37c0960bd9",
        "colab": {
          "base_uri": "https://localhost:8080/"
        }
      },
      "execution_count": 64,
      "outputs": [
        {
          "output_type": "stream",
          "name": "stdout",
          "text": [
            "1/1 [==============================] - 0s 20ms/step\n",
            "Predicted Emoji: ❤️\n"
          ]
        }
      ]
    },
    {
      "cell_type": "code",
      "source": [
        "import numpy as np\n",
        "\n",
        "# Use the trained model to predict emoji for new text\n",
        "new_text = \"im gonna be DEAD if i show my parents my grades\"\n",
        "encoded_new_text = tokenizer.texts_to_sequences([new_text])\n",
        "padded_new_text = pad_sequences(encoded_new_text, maxlen=max_length, padding='post')\n",
        "predicted_probabilities = model.predict(padded_new_text)\n",
        "predicted_label = np.argmax(predicted_probabilities)\n",
        "predicted_emoji = [emoji for emoji, idx in label_dict.items() if idx == predicted_label][0]\n",
        "\n",
        "print(\"Predicted Emoji:\", predicted_emoji)"
      ],
      "metadata": {
        "id": "AX-79kz2Czn9",
        "outputId": "1b3e5266-3e14-4dfb-a283-357062bda11a",
        "colab": {
          "base_uri": "https://localhost:8080/"
        }
      },
      "execution_count": 65,
      "outputs": [
        {
          "output_type": "stream",
          "name": "stdout",
          "text": [
            "1/1 [==============================] - 0s 33ms/step\n",
            "Predicted Emoji: 💀\n"
          ]
        }
      ]
    },
    {
      "cell_type": "code",
      "source": [
        "import numpy as np\n",
        "\n",
        "# Use the trained model to predict emoji for new text\n",
        "new_text = \"he literally said that he would be with me forever but he gave up on me, and lowkey he was a jerk and I fell for it. It's lowkey rlly sad, like I did so much and I got nothing in return\"\n",
        "encoded_new_text = tokenizer.texts_to_sequences([new_text])\n",
        "padded_new_text = pad_sequences(encoded_new_text, maxlen=max_length, padding='post')\n",
        "predicted_probabilities = model.predict(padded_new_text)\n",
        "predicted_label = np.argmax(predicted_probabilities)\n",
        "predicted_emoji = [emoji for emoji, idx in label_dict.items() if idx == predicted_label][0]\n",
        "\n",
        "print(\"Predicted Emoji:\", predicted_emoji)"
      ],
      "metadata": {
        "id": "jj8NmVs1CyJz",
        "outputId": "e18c80ee-88c1-425a-9e87-c769a219ec8c",
        "colab": {
          "base_uri": "https://localhost:8080/"
        }
      },
      "execution_count": 69,
      "outputs": [
        {
          "output_type": "stream",
          "name": "stdout",
          "text": [
            "1/1 [==============================] - 0s 101ms/step\n",
            "Predicted Emoji: 😢\n"
          ]
        }
      ]
    },
    {
      "cell_type": "code",
      "source": [
        "import numpy as np\n",
        "\n",
        "# Use the trained model to predict emoji for new text\n",
        "new_text = \"I am lowkey so tired and sleepy, I just want to sleep in class and I dont know why i do it. Like i want to listen to the professor but I just cant stay awake.\"\n",
        "encoded_new_text = tokenizer.texts_to_sequences([new_text])\n",
        "padded_new_text = pad_sequences(encoded_new_text, maxlen=max_length, padding='post')\n",
        "predicted_probabilities = model.predict(padded_new_text)\n",
        "predicted_label = np.argmax(predicted_probabilities)\n",
        "predicted_emoji = [emoji for emoji, idx in label_dict.items() if idx == predicted_label][0]\n",
        "\n",
        "print(\"Predicted Emoji:\", predicted_emoji)"
      ],
      "metadata": {
        "id": "vBVj64nDD_5y",
        "outputId": "9f0d0f92-d654-4d10-cd1b-ea33eefbb7ab",
        "colab": {
          "base_uri": "https://localhost:8080/"
        }
      },
      "execution_count": 70,
      "outputs": [
        {
          "output_type": "stream",
          "name": "stdout",
          "text": [
            "1/1 [==============================] - 0s 35ms/step\n",
            "Predicted Emoji: 😴\n"
          ]
        }
      ]
    },
    {
      "cell_type": "code",
      "source": [
        "import numpy as np\n",
        "\n",
        "# Use the trained model to predict emoji for new text\n",
        "new_text = \"I am in love with my guy best friend but I dont know how to say that I love him so much, hes so cute and sweet. Hes just so LOVEABLE\"\n",
        "encoded_new_text = tokenizer.texts_to_sequences([new_text])\n",
        "padded_new_text = pad_sequences(encoded_new_text, maxlen=max_length, padding='post')\n",
        "predicted_probabilities = model.predict(padded_new_text)\n",
        "predicted_label = np.argmax(predicted_probabilities)\n",
        "predicted_emoji = [emoji for emoji, idx in label_dict.items() if idx == predicted_label][0]\n",
        "\n",
        "print(\"Predicted Emoji:\", predicted_emoji)"
      ],
      "metadata": {
        "id": "Yzs0mDCmE0Qm",
        "outputId": "76b74fd0-a36a-4215-ecbe-dda787c646a9",
        "colab": {
          "base_uri": "https://localhost:8080/"
        }
      },
      "execution_count": 71,
      "outputs": [
        {
          "output_type": "stream",
          "name": "stdout",
          "text": [
            "1/1 [==============================] - 0s 31ms/step\n",
            "Predicted Emoji: ❤️\n"
          ]
        }
      ]
    },
    {
      "cell_type": "code",
      "source": [
        "import numpy as np\n",
        "\n",
        "# Use the trained model to predict emoji for new text\n",
        "new_text = \"I am so hap\"\n",
        "encoded_new_text = tokenizer.texts_to_sequences([new_text])\n",
        "padded_new_text = pad_sequences(encoded_new_text, maxlen=max_length, padding='post')\n",
        "predicted_probabilities = model.predict(padded_new_text)\n",
        "predicted_label = np.argmax(predicted_probabilities)\n",
        "predicted_emoji = [emoji for emoji, idx in label_dict.items() if idx == predicted_label][0]\n",
        "\n",
        "print(\"Predicted Emoji:\", predicted_emoji)"
      ],
      "metadata": {
        "id": "RJTb28M_Ezt4"
      },
      "execution_count": null,
      "outputs": []
    },
    {
      "cell_type": "code",
      "source": [
        "import numpy as np\n",
        "\n",
        "# Use the trained model to predict emoji for new text\n",
        "new_text = \"I am so happy that my team won the Hackathon\"\n",
        "encoded_new_text = tokenizer.texts_to_sequences([new_text])\n",
        "padded_new_text = pad_sequences(encoded_new_text, maxlen=max_length, padding='post')\n",
        "predicted_probabilities = model.predict(padded_new_text)\n",
        "predicted_label = np.argmax(predicted_probabilities)\n",
        "predicted_emoji = [emoji for emoji, idx in label_dict.items() if idx == predicted_label][0]\n",
        "\n",
        "print(\"Predicted Emoji:\", predicted_emoji)"
      ],
      "metadata": {
        "id": "79eHyjrsHq7m",
        "outputId": "f654023a-d119-4d16-cf8b-d0c4ec04a762",
        "colab": {
          "base_uri": "https://localhost:8080/"
        }
      },
      "execution_count": 72,
      "outputs": [
        {
          "output_type": "stream",
          "name": "stdout",
          "text": [
            "1/1 [==============================] - 0s 46ms/step\n",
            "Predicted Emoji: 😀\n"
          ]
        }
      ]
    }
  ]
}